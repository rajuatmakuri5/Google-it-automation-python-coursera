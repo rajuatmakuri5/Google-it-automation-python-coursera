{
 "cells": [
  {
   "cell_type": "code",
   "execution_count": 1,
   "id": "a293b7b2-11dd-4d4c-bd95-cfdda39587ac",
   "metadata": {},
   "outputs": [
    {
     "name": "stdout",
     "output_type": "stream",
     "text": [
      "Reading the first line \n",
      "1. When in doubt, go to the library\n",
      "\n",
      "=========================\n",
      "Reading the second line \n",
      "2. We can't choose our fate, but we can choose others\n",
      "\n",
      "=========================\n",
      "Reading the third line to end of file \n",
      "['3. Fear of a name only increases fear of the thing itself.\\n', '4. But you know, happiness can be found even in the darkest of times, if one only remembers to turn on the light.\\n', '5. It takes a great deal of bravery to stand up to our enemies, but just as much to stand up to our friends.\\n', '6. It matters not what someone is born, but what they grow to be.\\n', '7. It is the unknown we fear when we look upon death and darkness, nothing more.\\n', '8. Things we lose have a way of coming back to us in the end, if not always in the way we expect.\\n', '9. Anything’s possible if you’ve got enough nerve.\\n', '10. To the well-organized mind, death is but the next great adventure']\n",
      "=========================\n",
      "as pointer is at end of the file, it will not read any line, output will be blank \n",
      "\n",
      "=========================\n",
      "as pointer is at end of the file, it will not read any line, output will be blank \n",
      "[]\n",
      "=========================\n"
     ]
    }
   ],
   "source": [
    "'''Read Files using different methods\n",
    "\n",
    "In Python you need to give access to a file by opening it. \n",
    "You can do it by using the open() function. \n",
    "Open returns a file object, which has methods and attributes for getting information about and manipulating the opened file.\n",
    "\n",
    "The with statement simplifies exception handling by encapsulating common preparation and cleanup tasks.\n",
    "In addition, it will automatically close the file. The with statement provides a way for ensuring that a clean-up is always used.\n",
    "'''\n",
    "\n",
    "file = open('samplefile.txt')\n",
    "print('Reading the first line \\n'+ file.readline())\n",
    "print(\"=\"*25)\n",
    "print('Reading the second line \\n'+ file.readline())\n",
    "print(\"=\"*25)\n",
    "print('Reading the third line to end of file \\n'+ str(file.readlines()))\n",
    "print(\"=\"*25)\n",
    "print('as pointer is at end of the file, it will not read any line, output will be blank \\n' +file.read())\n",
    "print(\"=\"*25)\n",
    "print('as pointer is at end of the file, it will not read any line, output will be blank \\n' + str(file.readlines()))\n",
    "print(\"=\"*25)\n",
    "\n",
    "file.close()"
   ]
  },
  {
   "cell_type": "code",
   "execution_count": 7,
   "id": "b1ee2cd2-fb31-49f6-a112-b18add4bb265",
   "metadata": {},
   "outputs": [
    {
     "name": "stdout",
     "output_type": "stream",
     "text": [
      "printing the list of lines in the file \n",
      "['1. When in doubt, go to the library\\n', \"2. We can't choose our fate, but we can choose others\\n\", '3. Fear of a name only increases fear of the thing itself.\\n', '4. But you know, happiness can be found even in the darkest of times, if one only remembers to turn on the light.\\n', '5. It takes a great deal of bravery to stand up to our enemies, but just as much to stand up to our friends.\\n', '6. It matters not what someone is born, but what they grow to be.\\n', '7. It is the unknown we fear when we look upon death and darkness, nothing more.\\n', '8. Things we lose have a way of coming back to us in the end, if not always in the way we expect.\\n', '9. Anything’s possible if you’ve got enough nerve.\\n', '10. To the well-organized mind, death is but the next great adventure']\n",
      "===========================================================================\n",
      "we are iterating through line by line of the file and it also prints a blank line by default \n",
      "\n",
      "1. WHEN IN DOUBT, GO TO THE LIBRARY\n",
      "\n",
      "2. WE CAN'T CHOOSE OUR FATE, BUT WE CAN CHOOSE OTHERS\n",
      "\n",
      "3. FEAR OF A NAME ONLY INCREASES FEAR OF THE THING ITSELF.\n",
      "\n",
      "4. BUT YOU KNOW, HAPPINESS CAN BE FOUND EVEN IN THE DARKEST OF TIMES, IF ONE ONLY REMEMBERS TO TURN ON THE LIGHT.\n",
      "\n",
      "5. IT TAKES A GREAT DEAL OF BRAVERY TO STAND UP TO OUR ENEMIES, BUT JUST AS MUCH TO STAND UP TO OUR FRIENDS.\n",
      "\n",
      "6. IT MATTERS NOT WHAT SOMEONE IS BORN, BUT WHAT THEY GROW TO BE.\n",
      "\n",
      "7. IT IS THE UNKNOWN WE FEAR WHEN WE LOOK UPON DEATH AND DARKNESS, NOTHING MORE.\n",
      "\n",
      "8. THINGS WE LOSE HAVE A WAY OF COMING BACK TO US IN THE END, IF NOT ALWAYS IN THE WAY WE EXPECT.\n",
      "\n",
      "9. ANYTHING’S POSSIBLE IF YOU’VE GOT ENOUGH NERVE.\n",
      "\n",
      "10. TO THE WELL-ORGANIZED MIND, DEATH IS BUT THE NEXT GREAT ADVENTURE\n",
      "===========================================================================\n",
      "we are iterating through line by line of the file and now we remove the blank line\n",
      "\n",
      "1. WHEN IN DOUBT, GO TO THE LIBRARY\n",
      "2. WE CAN'T CHOOSE OUR FATE, BUT WE CAN CHOOSE OTHERS\n",
      "3. FEAR OF A NAME ONLY INCREASES FEAR OF THE THING ITSELF.\n",
      "4. BUT YOU KNOW, HAPPINESS CAN BE FOUND EVEN IN THE DARKEST OF TIMES, IF ONE ONLY REMEMBERS TO TURN ON THE LIGHT.\n",
      "5. IT TAKES A GREAT DEAL OF BRAVERY TO STAND UP TO OUR ENEMIES, BUT JUST AS MUCH TO STAND UP TO OUR FRIENDS.\n",
      "6. IT MATTERS NOT WHAT SOMEONE IS BORN, BUT WHAT THEY GROW TO BE.\n",
      "7. IT IS THE UNKNOWN WE FEAR WHEN WE LOOK UPON DEATH AND DARKNESS, NOTHING MORE.\n",
      "8. THINGS WE LOSE HAVE A WAY OF COMING BACK TO US IN THE END, IF NOT ALWAYS IN THE WAY WE EXPECT.\n",
      "9. ANYTHING’S POSSIBLE IF YOU’VE GOT ENOUGH NERVE.\n",
      "10. TO THE WELL-ORGANIZED MIND, DEATH IS BUT THE NEXT GREAT ADVENTURE\n"
     ]
    }
   ],
   "source": [
    "'''Read Files using with statement'''\n",
    "\n",
    "with open('samplefile.txt') as f:\n",
    "    print('printing the list of lines in the file \\n'+ str(f.readlines()))\n",
    "print(\"=\"*75)\n",
    "\n",
    "    \n",
    "'''few more methods and examples'''\n",
    "print('we are iterating through line by line of the file and it also prints a blank line by default \\n')\n",
    "with open('samplefile.txt') as y:\n",
    "    for line in y:\n",
    "        print(line.upper())\n",
    "print(\"=\"*75)\n",
    "print('we are iterating through line by line of the file and now we remove the blank line\\n')\n",
    "with open('samplefile.txt') as y:\n",
    "    for line in y:\n",
    "        print(line.strip().upper())"
   ]
  },
  {
   "cell_type": "code",
   "execution_count": null,
   "id": "92e504b1-eec9-47e1-bc9d-3d23682ce770",
   "metadata": {},
   "outputs": [],
   "source": []
  }
 ],
 "metadata": {
  "kernelspec": {
   "display_name": "Python 3",
   "language": "python",
   "name": "python3"
  },
  "language_info": {
   "codemirror_mode": {
    "name": "ipython",
    "version": 3
   },
   "file_extension": ".py",
   "mimetype": "text/x-python",
   "name": "python",
   "nbconvert_exporter": "python",
   "pygments_lexer": "ipython3",
   "version": "3.9.0"
  }
 },
 "nbformat": 4,
 "nbformat_minor": 5
}
