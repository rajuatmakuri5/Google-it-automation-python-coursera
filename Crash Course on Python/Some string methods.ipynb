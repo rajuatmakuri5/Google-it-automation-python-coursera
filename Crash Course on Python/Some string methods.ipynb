{
 "cells": [
  {
   "cell_type": "code",
   "execution_count": 3,
   "id": "bbdc5a5a-35a5-43f4-9514-46046dec893e",
   "metadata": {},
   "outputs": [
    {
     "name": "stdout",
     "output_type": "stream",
     "text": [
      "\n",
      "\n",
      "change to upper case:THIS IS A STRING, A STRING IS COMBINATION OF CHARACTERS OR NUMERICALS, OR ANYTHING IN BETWEEN SINGLE/DOUBLE QUOTES IS A STRING\n"
     ]
    }
   ],
   "source": [
    "str = 'This is a String, A string is combination of characters or numericals, or anything in between single/double quotes is a string'\n",
    "print('\\n')\n",
    "print('we will see few string methods in this notebook')\n",
    "print('\\n')\n",
    "print(f\"change to upper case:{str.upper()}\")"
   ]
  },
  {
   "cell_type": "code",
   "execution_count": 4,
   "id": "f1024b71-a3c6-422f-8126-5093a0e84d20",
   "metadata": {},
   "outputs": [
    {
     "name": "stdout",
     "output_type": "stream",
     "text": [
      "change to upper case:this is a string, a string is combination of characters or numericals, or anything in between single/double quotes is a string\n"
     ]
    }
   ],
   "source": [
    "print(f\"change to lower case:{str.lower()}\")"
   ]
  },
  {
   "cell_type": "code",
   "execution_count": 6,
   "id": "09b9ba29-50d9-45f2-bfd4-bbd0b2ec2971",
   "metadata": {},
   "outputs": [
    {
     "name": "stdout",
     "output_type": "stream",
     "text": [
      "first letter of the word in the string will be capitalized:This is a string, a string is combination of characters or numericals, or anything in between single/double quotes is a string\n"
     ]
    }
   ],
   "source": [
    "print(f\"first letter of the word in the string will be capitalized:{str.capitalize()}\")"
   ]
  },
  {
   "cell_type": "code",
   "execution_count": 7,
   "id": "00b3af02-fa3a-47b3-abd9-03bed3e7dbd6",
   "metadata": {},
   "outputs": [
    {
     "name": "stdout",
     "output_type": "stream",
     "text": [
      "first letter of all words in the string will be capitalized:This Is A String, A String Is Combination Of Characters Or Numericals, Or Anything In Between Single/Double Quotes Is A String\n"
     ]
    }
   ],
   "source": [
    "print(f\"first letter of all words in the string will be capitalized:{str.title()}\")"
   ]
  },
  {
   "cell_type": "code",
   "execution_count": 11,
   "id": "b1e631cf-3995-43f4-8f9d-74ca1499309c",
   "metadata": {},
   "outputs": [
    {
     "name": "stdout",
     "output_type": "stream",
     "text": [
      "count how many times a given letter appeared in string:7\n",
      "count how many times a given letter appeared in string:1\n",
      "count how many times a given letter appeared in string:10\n",
      "count how many times a given letter appeared in string:2\n"
     ]
    }
   ],
   "source": [
    "print(f\"count how many times a given letter appeared in string:{str.count('a')}\")\n",
    "print(f\"count how many times a given letter appeared in string:{str.count('S')}\")\n",
    "print(f\"count how many times a given letter appeared in string:{str.count('s')}\")\n",
    "print(f\"count how many times a given letter appeared in string:{str.count('string')}\")"
   ]
  },
  {
   "cell_type": "code",
   "execution_count": 13,
   "id": "cde3e9b8-7a26-4e1e-ad07-0e46619930e6",
   "metadata": {},
   "outputs": [
    {
     "name": "stdout",
     "output_type": "stream",
     "text": [
      "True\n",
      "False\n"
     ]
    }
   ],
   "source": [
    "str = 'Alpha1234'\n",
    "print(str.isalnum())\n",
    "print(str.isalpha())"
   ]
  },
  {
   "cell_type": "code",
   "execution_count": 15,
   "id": "707c3ea7-16be-4a3e-99bd-c5af01acf0d3",
   "metadata": {},
   "outputs": [
    {
     "name": "stdout",
     "output_type": "stream",
     "text": [
      "True\n"
     ]
    }
   ],
   "source": [
    "str = '997700818190101017910917171'\n",
    "print(str.isdigit())"
   ]
  },
  {
   "cell_type": "code",
   "execution_count": 32,
   "id": "8c83f6c3-110e-44d8-91bf-dabde44a0a99",
   "metadata": {},
   "outputs": [
    {
     "name": "stdout",
     "output_type": "stream",
     "text": [
      "Hello-----\n",
      "-----Hello\n"
     ]
    }
   ],
   "source": [
    "str = '-----Hello-----'\n",
    "print(str.lstrip(\"-\"))\n",
    "print(str.rstrip(\"-\"))\n"
   ]
  },
  {
   "cell_type": "code",
   "execution_count": 34,
   "id": "7375622e-c117-4146-ae18-dc8011dc6cde",
   "metadata": {},
   "outputs": [
    {
     "name": "stdout",
     "output_type": "stream",
     "text": [
      "['This', 'is', 'a', 'String,', 'A', 'string', 'is', 'combination', 'of', 'characters', 'or', 'numericals,', 'or', 'anything', 'in', 'between', 'single/double', 'quotes', 'is', 'a', 'string']\n",
      "['This is a String', ' A string is combination of characters or numericals', ' or anything in between single/double quotes is a string']\n",
      "['This is a String, A string is combination of characters or numericals, or anything in between single', 'double quotes is a string']\n"
     ]
    }
   ],
   "source": [
    "str = 'This is a String, A string is combination of characters or numericals, or anything in between single/double quotes is a string'\n",
    "print(str.split())\n",
    "print(str.split(','))\n",
    "print(str.split('/'))"
   ]
  },
  {
   "cell_type": "code",
   "execution_count": 35,
   "id": "8a858c8c-0f9a-48a1-bec2-a7d9b980c438",
   "metadata": {},
   "outputs": [
    {
     "name": "stdout",
     "output_type": "stream",
     "text": [
      "This is a String, A Strong is combination of characters or numericals, or anything in between single/double quotes is a Strong\n"
     ]
    }
   ],
   "source": [
    "str = 'This is a String, A string is combination of characters or numericals, or anything in between single/double quotes is a string'\n",
    "print(str.replace('string', 'Strong'))"
   ]
  },
  {
   "cell_type": "code",
   "execution_count": 36,
   "id": "f8cf23f7-ba07-450c-a72f-9519923c828e",
   "metadata": {},
   "outputs": [
    {
     "name": "stdout",
     "output_type": "stream",
     "text": [
      "i AM uPpER And LowER\n"
     ]
    }
   ],
   "source": [
    "str = 'I am UpPer aND lOWer'\n",
    "print(str.swapcase())\n"
   ]
  },
  {
   "cell_type": "code",
   "execution_count": 37,
   "id": "7fa5f552-2bed-4c05-a9d0-5e9cd8e99401",
   "metadata": {},
   "outputs": [
    {
     "name": "stdout",
     "output_type": "stream",
     "text": [
      "True\n",
      "False\n",
      "True\n",
      "False\n",
      "True\n",
      "False\n",
      "True\n"
     ]
    }
   ],
   "source": [
    "str = \"VxRail\"\n",
    "\n",
    "print(str.startswith('V'))\n",
    "print(str.startswith('v'))\n",
    "print(str.startswith('Vx'))\n",
    "print(str.endswith('V'))\n",
    "print(str.endswith('l'))\n",
    "print(str.endswith('al'))\n",
    "print(str.endswith('il'))"
   ]
  },
  {
   "cell_type": "code",
   "execution_count": null,
   "id": "57f9a279-569c-4b4a-a536-37ea3db2ce11",
   "metadata": {},
   "outputs": [],
   "source": []
  }
 ],
 "metadata": {
  "kernelspec": {
   "display_name": "Python 3",
   "language": "python",
   "name": "python3"
  },
  "language_info": {
   "codemirror_mode": {
    "name": "ipython",
    "version": 3
   },
   "file_extension": ".py",
   "mimetype": "text/x-python",
   "name": "python",
   "nbconvert_exporter": "python",
   "pygments_lexer": "ipython3",
   "version": "3.9.0"
  }
 },
 "nbformat": 4,
 "nbformat_minor": 5
}
