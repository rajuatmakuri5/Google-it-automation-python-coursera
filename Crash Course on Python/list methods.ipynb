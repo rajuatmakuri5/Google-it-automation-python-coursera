{
 "cells": [
  {
   "cell_type": "code",
   "execution_count": 3,
   "id": "5455855d-7c93-4871-bc94-438bcbfe3e21",
   "metadata": {},
   "outputs": [
    {
     "name": "stdout",
     "output_type": "stream",
     "text": [
      "['Apple', 'Grapes', 'Banana', 'Strawberry', 'Mangoes', 'Pineapple']\n"
     ]
    }
   ],
   "source": [
    "fruits = ['Apple','Grapes','Banana','Strawberry','Mangoes']\n",
    "fruits.append('Pineapple')\n",
    "print(fruits)\n"
   ]
  },
  {
   "cell_type": "code",
   "execution_count": 5,
   "id": "0ba4f661-36c7-4f25-a82f-b723e098ce67",
   "metadata": {},
   "outputs": [
    {
     "name": "stdout",
     "output_type": "stream",
     "text": [
      "['Apple', 'Grapes', 'Banana', 'Strawberry', 'Mangoes', 'P', 'i', 'n', 'e', 'a', 'p', 'p', 'l', 'e']\n"
     ]
    }
   ],
   "source": [
    "fruits = ['Apple','Grapes','Banana','Strawberry','Mangoes']\n",
    "fruits.extend('Pineapple')\n",
    "print(fruits)\n"
   ]
  },
  {
   "cell_type": "code",
   "execution_count": 9,
   "id": "b115a66f-85b5-45c6-b376-def7e3a18311",
   "metadata": {},
   "outputs": [
    {
     "name": "stdout",
     "output_type": "stream",
     "text": [
      "['Apple', 'Grapes', 'Banana', 'Pineapple', 'Pineapple', 'Strawberry', 'Mangoes']\n",
      "See this, list can have duplicated items\n",
      "we can remove duplicates using set\n",
      "The list without duplicates:{'Strawberry', 'Mangoes', 'Grapes', 'Apple', 'Pineapple', 'Banana'}\n"
     ]
    }
   ],
   "source": [
    "fruits = ['Apple','Grapes','Banana','Strawberry','Mangoes']\n",
    "fruits.insert(3, 'Pineapple')\n",
    "fruits.insert(3, 'Pineapple')\n",
    "print(fruits)\n",
    "print(\"See this, list can have duplicated items\")\n",
    "print(\"we can remove duplicates using set\")\n",
    "print(f\"The list without duplicates:{set(fruits)}\")\n",
    "\n",
    "\n"
   ]
  },
  {
   "cell_type": "code",
   "execution_count": 12,
   "id": "3f88d2d0-ffbe-4650-84c9-e2936178f293",
   "metadata": {},
   "outputs": [
    {
     "name": "stdout",
     "output_type": "stream",
     "text": [
      "If you dont like a fruit in the list you can replace it with your favourite one\n",
      "['Carrot', 'Grapes', 'Banana', 'Strawberry', 'Mangoes']\n",
      "unlike strings, list elements are mutable, list is also mutable\n"
     ]
    }
   ],
   "source": [
    "fruits = ['Apple','Grapes','Banana','Strawberry','Mangoes']\n",
    "print('If you dont like a fruit in the list you can replace it with your favourite one')\n",
    "fruits[0] = 'Carrot'\n",
    "print(fruits)\n",
    "print('unlike strings, list elements are mutable, list is also mutable')"
   ]
  },
  {
   "cell_type": "code",
   "execution_count": 14,
   "id": "7c2316de-6b15-422b-a6a4-9371ba75527e",
   "metadata": {},
   "outputs": [
    {
     "name": "stdout",
     "output_type": "stream",
     "text": [
      "['Apple', 'Grapes', 'Strawberry', 'Mangoes']\n"
     ]
    }
   ],
   "source": [
    "fruits = ['Apple','Grapes','Banana','Strawberry','Mangoes']\n",
    "fruits.remove('Banana')\n",
    "fruits.remove('Banana') #--> it will throw value error, Banana is already removed from the list\n",
    "print(fruits)"
   ]
  },
  {
   "cell_type": "code",
   "execution_count": 16,
   "id": "1cb6687e-75c6-4c85-b571-f1d92e47b462",
   "metadata": {},
   "outputs": [
    {
     "name": "stdout",
     "output_type": "stream",
     "text": [
      "['Grapes', 'Banana', 'Strawberry']\n"
     ]
    }
   ],
   "source": [
    "fruits = ['Apple','Grapes','Banana','Strawberry','Mangoes']\n",
    "fruits.pop() #By default it removes item at the last index\n",
    "fruits.pop(0) #you can specify index also\n",
    "print(fruits)"
   ]
  },
  {
   "cell_type": "code",
   "execution_count": 21,
   "id": "3b1eadf5-4c1f-4f52-bb4e-5d93269670e0",
   "metadata": {},
   "outputs": [
    {
     "name": "stdout",
     "output_type": "stream",
     "text": [
      "['Apple', 'Banana', 'Grapes', 'Mangoes', 'Strawberry']\n",
      "====================================================================================================\n",
      "['Apple', 'Banana', 'Grapes', 'Mangoes', 'Strawberry']\n",
      "['Apple', 'Grapes', 'Banana', 'Strawberry', 'Mangoes']\n"
     ]
    }
   ],
   "source": [
    "fruits = ['Apple','Grapes','Banana','Strawberry','Mangoes']\n",
    "fruits.sort()  #Sort will replace the existing list with the sorted value\n",
    "print(fruits)\n",
    "print('='*100)\n",
    "fruits2 = ['Apple','Grapes','Banana','Strawberry','Mangoes']\n",
    "print(sorted(fruits2)) #sorted will store the sorted items in a new list\n",
    "print(fruits2)"
   ]
  },
  {
   "cell_type": "code",
   "execution_count": 28,
   "id": "c431467e-87aa-4ffd-a092-f164ec834643",
   "metadata": {},
   "outputs": [
    {
     "name": "stdout",
     "output_type": "stream",
     "text": [
      "['3 X 1 = 3', '3 X 2 = 6', '3 X 3 = 9', '3 X 4 = 12', '3 X 5 = 15', '3 X 6 = 18', '3 X 7 = 21', '3 X 8 = 24', '3 X 9 = 27', '3 X 10 = 30']\n",
      "3 X 1 = 3\n",
      "3 X 2 = 6\n",
      "3 X 3 = 9\n",
      "3 X 4 = 12\n",
      "3 X 5 = 15\n",
      "3 X 6 = 18\n",
      "3 X 7 = 21\n",
      "3 X 8 = 24\n",
      "3 X 9 = 27\n",
      "3 X 10 = 30\n"
     ]
    }
   ],
   "source": [
    "'''List comprehensions provide a concise way to create lists. \n",
    "Common applications are to make new lists where each element is the result of some operations applied to each member of another sequence or iterable, \n",
    "or to create a subsequence of those elements that satisfy a certain condition.'''\n",
    "\n",
    "tableof3 = []\n",
    "for x in range(1, 11):\n",
    "    tableof3.append(f'3 X {x} = '+ str(3*x))\n",
    "print(tableof3)\n",
    "for y in tableof3:\n",
    "    print(y)\n",
    "    \n",
    "\n"
   ]
  },
  {
   "cell_type": "code",
   "execution_count": 30,
   "id": "4cbe04b3-e530-46b4-828e-00a4c9a01648",
   "metadata": {},
   "outputs": [
    {
     "name": "stdout",
     "output_type": "stream",
     "text": [
      "['3 X 1 = 3', '3 X 2 = 6', '3 X 3 = 9', '3 X 4 = 12', '3 X 5 = 15', '3 X 6 = 18', '3 X 7 = 21', '3 X 8 = 24', '3 X 9 = 27', '3 X 10 = 30']\n"
     ]
    }
   ],
   "source": [
    "'''Lets use list comprehension for the same'''\n",
    "\n",
    "tableof3 = list(f'3 X {x} = '+ str(3*x) for x in range(1,11))\n",
    "print(tableof3)\n"
   ]
  },
  {
   "cell_type": "code",
   "execution_count": 32,
   "id": "d1080f5d-d6b5-4af1-aeec-f3f355fc8805",
   "metadata": {},
   "outputs": [
    {
     "name": "stdout",
     "output_type": "stream",
     "text": [
      "[[1, 4, 6], [2, 5, 7], [3, 6, 8]]\n"
     ]
    }
   ],
   "source": [
    "'''Nested lists'''\n",
    "matrix = [[1,2,3],\n",
    "         [4,5,6],\n",
    "         [6,7,8]\n",
    "         ]\n",
    "\n",
    "transpose_matrix = [[row[i] for row in matrix] for i in range(3)]\n",
    "print(transpose_matrix)"
   ]
  },
  {
   "cell_type": "code",
   "execution_count": 35,
   "id": "cad0f3a7-d196-4399-aa34-16bc7a517679",
   "metadata": {},
   "outputs": [
    {
     "name": "stdout",
     "output_type": "stream",
     "text": [
      "['Grapes', 'Banana', 'Strawberry', 'Mangoes']\n"
     ]
    },
    {
     "data": {
      "text/plain": [
       "'Grapes'"
      ]
     },
     "execution_count": 35,
     "metadata": {},
     "output_type": "execute_result"
    }
   ],
   "source": [
    "fruits = ['Apple','Grapes','Banana','Strawberry','Mangoes']\n",
    "del fruits[0] # del just remove the item at the given index\n",
    "print(fruits)\n",
    "fruits.pop(0)   #it returns the item when it removes the item at given index"
   ]
  },
  {
   "cell_type": "code",
   "execution_count": null,
   "id": "b2c9421f-299f-46b0-bf70-114b46f92a18",
   "metadata": {},
   "outputs": [],
   "source": []
  }
 ],
 "metadata": {
  "kernelspec": {
   "display_name": "Python 3",
   "language": "python",
   "name": "python3"
  },
  "language_info": {
   "codemirror_mode": {
    "name": "ipython",
    "version": 3
   },
   "file_extension": ".py",
   "mimetype": "text/x-python",
   "name": "python",
   "nbconvert_exporter": "python",
   "pygments_lexer": "ipython3",
   "version": "3.9.0"
  }
 },
 "nbformat": 4,
 "nbformat_minor": 5
}
